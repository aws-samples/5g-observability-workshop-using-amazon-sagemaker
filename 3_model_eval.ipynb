{
 "cells": [
  {
   "cell_type": "code",
   "execution_count": 2,
   "id": "78e81134-fca0-4a52-93e2-8c4edd33bf39",
   "metadata": {
    "tags": []
   },
   "outputs": [],
   "source": [
    "import sagemaker\n",
    "import pandas as pd\n",
    "import boto3\n",
    "\n",
    "sagemaker_session = sagemaker.Session()\n",
    "bucket = sagemaker_session.default_bucket()\n",
    "\n",
    "prefix = \"telco-anomaly-demo\"\n",
    "\n",
    "region = sagemaker_session.boto_region_name\n",
    "sagemaker_role = sagemaker.get_execution_role()\n",
    "\n",
    "\n",
    "s3_client = boto3.client(\"s3\", region_name=region)\n"
   ]
  },
  {
   "cell_type": "code",
   "execution_count": 3,
   "id": "7d0aac5b-61bf-4caa-a668-65738428031d",
   "metadata": {
    "tags": []
   },
   "outputs": [
    {
     "data": {
      "text/html": [
       "<div>\n",
       "<style scoped>\n",
       "    .dataframe tbody tr th:only-of-type {\n",
       "        vertical-align: middle;\n",
       "    }\n",
       "\n",
       "    .dataframe tbody tr th {\n",
       "        vertical-align: top;\n",
       "    }\n",
       "\n",
       "    .dataframe thead th {\n",
       "        text-align: right;\n",
       "    }\n",
       "</style>\n",
       "<table border=\"1\" class=\"dataframe\">\n",
       "  <thead>\n",
       "    <tr style=\"text-align: right;\">\n",
       "      <th></th>\n",
       "      <th>health</th>\n",
       "      <th>accessibility</th>\n",
       "      <th>5g_users</th>\n",
       "      <th>contention_rate</th>\n",
       "      <th>utilization</th>\n",
       "      <th>downlink_throughput</th>\n",
       "      <th>uplink_throughput</th>\n",
       "      <th>anomaly</th>\n",
       "      <th>location_id</th>\n",
       "      <th>eventtime</th>\n",
       "      <th>write_time</th>\n",
       "      <th>api_invocation_time</th>\n",
       "      <th>is_deleted</th>\n",
       "    </tr>\n",
       "  </thead>\n",
       "  <tbody>\n",
       "    <tr>\n",
       "      <th>0</th>\n",
       "      <td>0.98</td>\n",
       "      <td>0.98</td>\n",
       "      <td>0.094781</td>\n",
       "      <td>0.004762</td>\n",
       "      <td>0.379834</td>\n",
       "      <td>0.012964</td>\n",
       "      <td>6.626886e-02</td>\n",
       "      <td>1</td>\n",
       "      <td>BAGONGLIPUNANQCNCRN-403_4RFS_None</td>\n",
       "      <td>1.676152e+09</td>\n",
       "      <td>2023-02-11 21:54:19.976</td>\n",
       "      <td>2023-02-11 21:49:22.000</td>\n",
       "      <td>False</td>\n",
       "    </tr>\n",
       "    <tr>\n",
       "      <th>1</th>\n",
       "      <td>0.98</td>\n",
       "      <td>0.97</td>\n",
       "      <td>0.010247</td>\n",
       "      <td>0.000454</td>\n",
       "      <td>0.303867</td>\n",
       "      <td>0.000349</td>\n",
       "      <td>4.750786e-03</td>\n",
       "      <td>0</td>\n",
       "      <td>BALUL2N_402</td>\n",
       "      <td>1.676152e+09</td>\n",
       "      <td>2023-02-11 21:54:19.976</td>\n",
       "      <td>2023-02-11 21:49:22.000</td>\n",
       "      <td>False</td>\n",
       "    </tr>\n",
       "    <tr>\n",
       "      <th>2</th>\n",
       "      <td>0.98</td>\n",
       "      <td>1.00</td>\n",
       "      <td>0.003522</td>\n",
       "      <td>0.000227</td>\n",
       "      <td>0.279006</td>\n",
       "      <td>0.000009</td>\n",
       "      <td>3.479770e-03</td>\n",
       "      <td>0</td>\n",
       "      <td>BIASONGTLSAYN_402</td>\n",
       "      <td>1.676152e+09</td>\n",
       "      <td>2023-02-11 21:54:19.976</td>\n",
       "      <td>2023-02-11 21:49:22.000</td>\n",
       "      <td>False</td>\n",
       "    </tr>\n",
       "    <tr>\n",
       "      <th>3</th>\n",
       "      <td>1.00</td>\n",
       "      <td>1.00</td>\n",
       "      <td>0.095101</td>\n",
       "      <td>0.020635</td>\n",
       "      <td>0.378453</td>\n",
       "      <td>0.064496</td>\n",
       "      <td>2.750947e-02</td>\n",
       "      <td>1</td>\n",
       "      <td>BALUL3M_351</td>\n",
       "      <td>1.676152e+09</td>\n",
       "      <td>2023-02-11 21:54:19.976</td>\n",
       "      <td>2023-02-11 21:49:22.000</td>\n",
       "      <td>False</td>\n",
       "    </tr>\n",
       "    <tr>\n",
       "      <th>4</th>\n",
       "      <td>1.00</td>\n",
       "      <td>0.99</td>\n",
       "      <td>0.059878</td>\n",
       "      <td>0.006576</td>\n",
       "      <td>0.309392</td>\n",
       "      <td>0.011944</td>\n",
       "      <td>1.541491e-02</td>\n",
       "      <td>0</td>\n",
       "      <td>BARANGKAN_403_4RFS</td>\n",
       "      <td>1.676152e+09</td>\n",
       "      <td>2023-02-11 21:54:19.976</td>\n",
       "      <td>2023-02-11 21:49:22.000</td>\n",
       "      <td>False</td>\n",
       "    </tr>\n",
       "    <tr>\n",
       "      <th>...</th>\n",
       "      <td>...</td>\n",
       "      <td>...</td>\n",
       "      <td>...</td>\n",
       "      <td>...</td>\n",
       "      <td>...</td>\n",
       "      <td>...</td>\n",
       "      <td>...</td>\n",
       "      <td>...</td>\n",
       "      <td>...</td>\n",
       "      <td>...</td>\n",
       "      <td>...</td>\n",
       "      <td>...</td>\n",
       "      <td>...</td>\n",
       "    </tr>\n",
       "    <tr>\n",
       "      <th>512951</th>\n",
       "      <td>0.98</td>\n",
       "      <td>0.97</td>\n",
       "      <td>0.014089</td>\n",
       "      <td>0.000227</td>\n",
       "      <td>0.158840</td>\n",
       "      <td>0.003965</td>\n",
       "      <td>1.721933e-02</td>\n",
       "      <td>0</td>\n",
       "      <td>11AVER_402_4RFS</td>\n",
       "      <td>1.676148e+09</td>\n",
       "      <td>2023-02-11 20:40:41.618</td>\n",
       "      <td>2023-02-11 20:40:36.000</td>\n",
       "      <td>False</td>\n",
       "    </tr>\n",
       "    <tr>\n",
       "      <th>512952</th>\n",
       "      <td>0.94</td>\n",
       "      <td>0.89</td>\n",
       "      <td>0.002562</td>\n",
       "      <td>0.000000</td>\n",
       "      <td>0.139503</td>\n",
       "      <td>0.000354</td>\n",
       "      <td>6.687759e-04</td>\n",
       "      <td>0</td>\n",
       "      <td>BFCLASSICR_402_4RFS</td>\n",
       "      <td>1.676148e+09</td>\n",
       "      <td>2023-02-11 20:40:41.618</td>\n",
       "      <td>2023-02-11 20:40:36.000</td>\n",
       "      <td>False</td>\n",
       "    </tr>\n",
       "    <tr>\n",
       "      <th>512953</th>\n",
       "      <td>1.00</td>\n",
       "      <td>0.99</td>\n",
       "      <td>0.052834</td>\n",
       "      <td>0.001134</td>\n",
       "      <td>0.197514</td>\n",
       "      <td>0.006590</td>\n",
       "      <td>2.140727e-02</td>\n",
       "      <td>0</td>\n",
       "      <td>BFCLASSICR_402_4RFS</td>\n",
       "      <td>1.676148e+09</td>\n",
       "      <td>2023-02-11 20:40:41.618</td>\n",
       "      <td>2023-02-11 20:40:36.000</td>\n",
       "      <td>False</td>\n",
       "    </tr>\n",
       "    <tr>\n",
       "      <th>512954</th>\n",
       "      <td>1.00</td>\n",
       "      <td>1.00</td>\n",
       "      <td>0.003202</td>\n",
       "      <td>0.000000</td>\n",
       "      <td>0.146409</td>\n",
       "      <td>0.000470</td>\n",
       "      <td>6.154671e-04</td>\n",
       "      <td>0</td>\n",
       "      <td>BATTUNGBDGMALNCRR-401_4RFS_None</td>\n",
       "      <td>1.676148e+09</td>\n",
       "      <td>2023-02-11 20:40:41.618</td>\n",
       "      <td>2023-02-11 20:40:36.000</td>\n",
       "      <td>False</td>\n",
       "    </tr>\n",
       "    <tr>\n",
       "      <th>512955</th>\n",
       "      <td>1.00</td>\n",
       "      <td>0.00</td>\n",
       "      <td>0.000000</td>\n",
       "      <td>0.000000</td>\n",
       "      <td>0.138122</td>\n",
       "      <td>0.000000</td>\n",
       "      <td>4.055031e-09</td>\n",
       "      <td>0</td>\n",
       "      <td>AVENIDAR_401_4RFS</td>\n",
       "      <td>1.676148e+09</td>\n",
       "      <td>2023-02-11 20:40:41.618</td>\n",
       "      <td>2023-02-11 20:40:36.000</td>\n",
       "      <td>False</td>\n",
       "    </tr>\n",
       "  </tbody>\n",
       "</table>\n",
       "<p>512956 rows × 13 columns</p>\n",
       "</div>"
      ],
      "text/plain": [
       "        health  accessibility  5g_users  contention_rate  utilization  \\\n",
       "0         0.98           0.98  0.094781         0.004762     0.379834   \n",
       "1         0.98           0.97  0.010247         0.000454     0.303867   \n",
       "2         0.98           1.00  0.003522         0.000227     0.279006   \n",
       "3         1.00           1.00  0.095101         0.020635     0.378453   \n",
       "4         1.00           0.99  0.059878         0.006576     0.309392   \n",
       "...        ...            ...       ...              ...          ...   \n",
       "512951    0.98           0.97  0.014089         0.000227     0.158840   \n",
       "512952    0.94           0.89  0.002562         0.000000     0.139503   \n",
       "512953    1.00           0.99  0.052834         0.001134     0.197514   \n",
       "512954    1.00           1.00  0.003202         0.000000     0.146409   \n",
       "512955    1.00           0.00  0.000000         0.000000     0.138122   \n",
       "\n",
       "        downlink_throughput  uplink_throughput  anomaly  \\\n",
       "0                  0.012964       6.626886e-02        1   \n",
       "1                  0.000349       4.750786e-03        0   \n",
       "2                  0.000009       3.479770e-03        0   \n",
       "3                  0.064496       2.750947e-02        1   \n",
       "4                  0.011944       1.541491e-02        0   \n",
       "...                     ...                ...      ...   \n",
       "512951             0.003965       1.721933e-02        0   \n",
       "512952             0.000354       6.687759e-04        0   \n",
       "512953             0.006590       2.140727e-02        0   \n",
       "512954             0.000470       6.154671e-04        0   \n",
       "512955             0.000000       4.055031e-09        0   \n",
       "\n",
       "                              location_id     eventtime  \\\n",
       "0       BAGONGLIPUNANQCNCRN-403_4RFS_None  1.676152e+09   \n",
       "1                             BALUL2N_402  1.676152e+09   \n",
       "2                       BIASONGTLSAYN_402  1.676152e+09   \n",
       "3                             BALUL3M_351  1.676152e+09   \n",
       "4                      BARANGKAN_403_4RFS  1.676152e+09   \n",
       "...                                   ...           ...   \n",
       "512951                    11AVER_402_4RFS  1.676148e+09   \n",
       "512952                BFCLASSICR_402_4RFS  1.676148e+09   \n",
       "512953                BFCLASSICR_402_4RFS  1.676148e+09   \n",
       "512954    BATTUNGBDGMALNCRR-401_4RFS_None  1.676148e+09   \n",
       "512955                  AVENIDAR_401_4RFS  1.676148e+09   \n",
       "\n",
       "                     write_time      api_invocation_time  is_deleted  \n",
       "0       2023-02-11 21:54:19.976  2023-02-11 21:49:22.000       False  \n",
       "1       2023-02-11 21:54:19.976  2023-02-11 21:49:22.000       False  \n",
       "2       2023-02-11 21:54:19.976  2023-02-11 21:49:22.000       False  \n",
       "3       2023-02-11 21:54:19.976  2023-02-11 21:49:22.000       False  \n",
       "4       2023-02-11 21:54:19.976  2023-02-11 21:49:22.000       False  \n",
       "...                         ...                      ...         ...  \n",
       "512951  2023-02-11 20:40:41.618  2023-02-11 20:40:36.000       False  \n",
       "512952  2023-02-11 20:40:41.618  2023-02-11 20:40:36.000       False  \n",
       "512953  2023-02-11 20:40:41.618  2023-02-11 20:40:36.000       False  \n",
       "512954  2023-02-11 20:40:41.618  2023-02-11 20:40:36.000       False  \n",
       "512955  2023-02-11 20:40:41.618  2023-02-11 20:40:36.000       False  \n",
       "\n",
       "[512956 rows x 13 columns]"
      ]
     },
     "execution_count": 3,
     "metadata": {},
     "output_type": "execute_result"
    }
   ],
   "source": [
    "from sagemaker.feature_store.feature_group import FeatureGroup\n",
    "\n",
    "anomaly_features = FeatureGroup(name=\"5gcell-anomaly-features\", sagemaker_session=sagemaker_session)\n",
    "\n",
    "query = anomaly_features.athena_query()\n",
    "\n",
    "table_name = query.table_name\n",
    "                       \n",
    "query_string = f\"\"\"\n",
    "SELECT * FROM \"{table_name}\"\n",
    "\"\"\"\n",
    "\n",
    "query.run(query_string=query_string, output_location=f\"s3://{bucket}/{prefix}/data/query_results\")\n",
    "query.wait()\n",
    "\n",
    "dataset = query.as_dataframe()\n",
    "\n",
    "dataset"
   ]
  },
  {
   "cell_type": "code",
   "execution_count": 4,
   "id": "c737c7aa-61f7-42f7-a2cf-0677783f0282",
   "metadata": {
    "tags": []
   },
   "outputs": [],
   "source": [
    "col_order = [\"anomaly\"] + list(dataset.drop([\"location_id\", \"anomaly\", \"eventtime\", \"write_time\",\"api_invocation_time\",'is_deleted'], axis=1).columns)\n",
    "\n",
    "train = dataset.sample(frac=0.80, random_state=0)[col_order]\n",
    "test = dataset.drop(train.index)[col_order]"
   ]
  },
  {
   "cell_type": "code",
   "execution_count": 5,
   "id": "07261ef4-8025-4695-949f-e2e9756050d8",
   "metadata": {
    "tags": []
   },
   "outputs": [
    {
     "name": "stdout",
     "output_type": "stream",
     "text": [
      "training data is uploaded to s3://sagemaker-us-west-2-987720697751/telco-anomaly-demo/data/xgboost/test.csv\n"
     ]
    }
   ],
   "source": [
    "test.to_csv(\"data/test.csv\", index=False)\n",
    "key = f\"{prefix}/data/xgboost/test.csv\"\n",
    "\n",
    "s3_client.upload_file(\n",
    "    Filename=\"data/test.csv\",\n",
    "    Bucket=bucket,\n",
    "    Key=key,\n",
    ")\n",
    "\n",
    "test_s3_path = f\"s3://{bucket}/{key}\"\n",
    "print(f\"training data is uploaded to {test_s3_path}\")"
   ]
  },
  {
   "cell_type": "code",
   "execution_count": 6,
   "id": "b61c46c7-5153-4098-a0fb-09e337aacc9c",
   "metadata": {
    "tags": []
   },
   "outputs": [],
   "source": [
    "# from sagemaker.sklearn.processing import SKLearnProcessor\n",
    "from sagemaker.xgboost import XGBoostProcessor\n",
    "\n",
    "xgb = XGBoostProcessor(\n",
    "    framework_version='1.5-1',\n",
    "    role=sagemaker_role,\n",
    "    instance_type='ml.m5.xlarge',\n",
    "    instance_count=1,\n",
    "    base_job_name=f'{prefix}-eval',\n",
    "    sagemaker_session=sagemaker_session,\n",
    ")\n",
    "# sklearn_processor = SKLearnProcessor(\n",
    "#     framework_version=\"0.23-1\",\n",
    "#     role=sagemaker_role,\n",
    "#     instance_type=\"ml.m5.xlarge\",\n",
    "#     instance_count=1,\n",
    "#     base_job_name=f\"{prefix}-eval\",\n",
    "#     sagemaker_session=sagemaker_session,\n",
    "# )"
   ]
  },
  {
   "cell_type": "code",
   "execution_count": 10,
   "id": "cee40403-97ba-43bc-bba0-8065048d7e2d",
   "metadata": {
    "tags": []
   },
   "outputs": [
    {
     "name": "stderr",
     "output_type": "stream",
     "text": [
      "INFO:sagemaker.processing:Uploaded None to s3://sagemaker-us-west-2-987720697751/telco-anomaly-demo-eval-2023-02-12-21-25-37-236/source/sourcedir.tar.gz\n",
      "INFO:sagemaker.processing:runproc.sh uploaded to s3://sagemaker-us-west-2-987720697751/telco-anomaly-demo-eval-2023-02-12-21-25-37-236/source/runproc.sh\n",
      "INFO:sagemaker:Creating processing-job with name telco-anomaly-demo-eval-2023-02-12-21-25-37-236\n"
     ]
    },
    {
     "name": "stdout",
     "output_type": "stream",
     "text": [
      "........................\n",
      "\u001b[34mExtracting the model\u001b[0m\n",
      "\u001b[34mLoad xgboost model....\u001b[0m\n",
      "\u001b[34mLoad input data......\u001b[0m\n",
      "\u001b[34mMake predictions......\u001b[0m\n",
      "\u001b[34mAccuracy: 0.9019212211597508\u001b[0m\n",
      "\u001b[34m[[82191  4899]\n",
      " [ 5163 10338]]\u001b[0m\n"
     ]
    }
   ],
   "source": [
    "from sagemaker.processing import ProcessingInput, ProcessingOutput\n",
    "\n",
    "xgb.run(\n",
    "    code=\"pipeline/model_eval.py\",\n",
    "    inputs=[ProcessingInput(source=\"s3://sagemaker-us-west-2-987720697751/telco-anomaly-pipeline/training_jobs/pipelines-242tyzqnmfdk-XgboostTrain-8XZgfg5DqD/output/model.tar.gz\", \n",
    "                            destination=\"/opt/ml/processing/model\"),\n",
    "            ProcessingInput(source=test_s3_path, \n",
    "                                    destination=\"/opt/ml/processing/input/test\")\n",
    "    ],\n",
    "    outputs=[\n",
    "        ProcessingOutput(output_name=\"evaluation\", source=\"/opt/ml/processing/evaluation\"),\n",
    "    ],\n",
    "    arguments=[\"--model-file\", \"model.tar.gz\", \"--cutoff-threshold\", \"0.4\"],\n",
    ")\n",
    "\n",
    "preprocessing_job_description = xgb.jobs[-1].describe()"
   ]
  },
  {
   "cell_type": "code",
   "execution_count": 9,
   "id": "dc68437f-8e40-41e9-8c48-2fbc08c3fbc5",
   "metadata": {
    "tags": []
   },
   "outputs": [
    {
     "data": {
      "text/plain": [
       "{'ProcessingInputs': [{'InputName': 'input-1',\n",
       "   'AppManaged': False,\n",
       "   'S3Input': {'S3Uri': 's3://sagemaker-us-west-2-987720697751/telco-anomaly-pipeline/training_jobs/pipelines-242tyzqnmfdk-XgboostTrain-8XZgfg5DqD/output/model.tar.gz',\n",
       "    'LocalPath': '/opt/ml/processing/model',\n",
       "    'S3DataType': 'S3Prefix',\n",
       "    'S3InputMode': 'File',\n",
       "    'S3DataDistributionType': 'FullyReplicated',\n",
       "    'S3CompressionType': 'None'}},\n",
       "  {'InputName': 'input-2',\n",
       "   'AppManaged': False,\n",
       "   'S3Input': {'S3Uri': 's3://sagemaker-us-west-2-987720697751/telco-anomaly-demo/data/xgboost/test.csv',\n",
       "    'LocalPath': '/opt/ml/processing/input/test',\n",
       "    'S3DataType': 'S3Prefix',\n",
       "    'S3InputMode': 'File',\n",
       "    'S3DataDistributionType': 'FullyReplicated',\n",
       "    'S3CompressionType': 'None'}},\n",
       "  {'InputName': 'code',\n",
       "   'AppManaged': False,\n",
       "   'S3Input': {'S3Uri': 's3://sagemaker-us-west-2-987720697751/telco-anomaly-demo-eval-2023-02-12-21-15-51-931/source/sourcedir.tar.gz',\n",
       "    'LocalPath': '/opt/ml/processing/input/code/',\n",
       "    'S3DataType': 'S3Prefix',\n",
       "    'S3InputMode': 'File',\n",
       "    'S3DataDistributionType': 'FullyReplicated',\n",
       "    'S3CompressionType': 'None'}},\n",
       "  {'InputName': 'entrypoint',\n",
       "   'AppManaged': False,\n",
       "   'S3Input': {'S3Uri': 's3://sagemaker-us-west-2-987720697751/telco-anomaly-demo-eval-2023-02-12-21-15-51-931/source/runproc.sh',\n",
       "    'LocalPath': '/opt/ml/processing/input/entrypoint',\n",
       "    'S3DataType': 'S3Prefix',\n",
       "    'S3InputMode': 'File',\n",
       "    'S3DataDistributionType': 'FullyReplicated',\n",
       "    'S3CompressionType': 'None'}}],\n",
       " 'ProcessingOutputConfig': {'Outputs': [{'OutputName': 'evaluation',\n",
       "    'S3Output': {'S3Uri': 's3://sagemaker-us-west-2-987720697751/telco-anomaly-demo-eval-2023-02-12-21-15-51-931/output/evaluation',\n",
       "     'LocalPath': '/opt/ml/processing/evaluation',\n",
       "     'S3UploadMode': 'EndOfJob'},\n",
       "    'AppManaged': False}]},\n",
       " 'ProcessingJobName': 'telco-anomaly-demo-eval-2023-02-12-21-15-51-931',\n",
       " 'ProcessingResources': {'ClusterConfig': {'InstanceCount': 1,\n",
       "   'InstanceType': 'ml.m5.xlarge',\n",
       "   'VolumeSizeInGB': 30}},\n",
       " 'StoppingCondition': {'MaxRuntimeInSeconds': 86400},\n",
       " 'AppSpecification': {'ImageUri': '246618743249.dkr.ecr.us-west-2.amazonaws.com/sagemaker-xgboost:1.5-1',\n",
       "  'ContainerEntrypoint': ['/bin/bash',\n",
       "   '/opt/ml/processing/input/entrypoint/runproc.sh'],\n",
       "  'ContainerArguments': ['--model-file',\n",
       "   'model.tar.gz',\n",
       "   '--cutoff-threshold',\n",
       "   '0.4']},\n",
       " 'RoleArn': 'arn:aws:iam::987720697751:role/service-role/AmazonSageMaker-ExecutionRole-20220608T104928',\n",
       " 'ProcessingJobArn': 'arn:aws:sagemaker:us-west-2:987720697751:processing-job/telco-anomaly-demo-eval-2023-02-12-21-15-51-931',\n",
       " 'ProcessingJobStatus': 'Completed',\n",
       " 'ProcessingEndTime': datetime.datetime(2023, 2, 12, 21, 19, 48, 52000, tzinfo=tzlocal()),\n",
       " 'ProcessingStartTime': datetime.datetime(2023, 2, 12, 21, 19, 30, 38000, tzinfo=tzlocal()),\n",
       " 'LastModifiedTime': datetime.datetime(2023, 2, 12, 21, 19, 48, 419000, tzinfo=tzlocal()),\n",
       " 'CreationTime': datetime.datetime(2023, 2, 12, 21, 15, 53, 86000, tzinfo=tzlocal()),\n",
       " 'ResponseMetadata': {'RequestId': 'b2097225-f8a8-4ee8-8864-8cc9b9a6a9a9',\n",
       "  'HTTPStatusCode': 200,\n",
       "  'HTTPHeaders': {'x-amzn-requestid': 'b2097225-f8a8-4ee8-8864-8cc9b9a6a9a9',\n",
       "   'content-type': 'application/x-amz-json-1.1',\n",
       "   'content-length': '2717',\n",
       "   'date': 'Sun, 12 Feb 2023 21:25:31 GMT'},\n",
       "  'RetryAttempts': 0}}"
      ]
     },
     "execution_count": 9,
     "metadata": {},
     "output_type": "execute_result"
    }
   ],
   "source": [
    "xgb.jobs[-1].describe()"
   ]
  },
  {
   "cell_type": "code",
   "execution_count": 42,
   "id": "c195c495-7637-4194-9fab-efc31199486e",
   "metadata": {
    "tags": []
   },
   "outputs": [
    {
     "name": "stdout",
     "output_type": "stream",
     "text": [
      "Collecting xgboost\n",
      "  Downloading xgboost-1.6.2-py3-none-manylinux2014_x86_64.whl (255.9 MB)\n",
      "\u001b[2K     \u001b[90m━━━━━━━━━━━━━━━━━━━━━━━━━━━━━━━━━━━━━━━\u001b[0m \u001b[32m255.9/255.9 MB\u001b[0m \u001b[31m4.0 MB/s\u001b[0m eta \u001b[36m0:00:00\u001b[0m00:01\u001b[0m00:01\u001b[0m\n",
      "\u001b[?25hRequirement already satisfied: scipy in /opt/conda/lib/python3.7/site-packages (from xgboost) (1.4.1)\n",
      "Requirement already satisfied: numpy in /opt/conda/lib/python3.7/site-packages (from xgboost) (1.21.6)\n",
      "Installing collected packages: xgboost\n",
      "Successfully installed xgboost-1.6.2\n",
      "\u001b[33mWARNING: Running pip as the 'root' user can result in broken permissions and conflicting behaviour with the system package manager. It is recommended to use a virtual environment instead: https://pip.pypa.io/warnings/venv\u001b[0m\u001b[33m\n",
      "\u001b[0m"
     ]
    }
   ],
   "source": [
    "!pip install xgboost"
   ]
  },
  {
   "cell_type": "code",
   "execution_count": 57,
   "id": "547048fc-90c1-48eb-a64a-842f91a0b422",
   "metadata": {
    "tags": []
   },
   "outputs": [],
   "source": [
    "import xgboost as xgb\n",
    "\n",
    "data = pd.read_csv(\"data/test.csv\")\n",
    "test = data.drop(\"anomaly\", axis=1)\n",
    "actual = pd.DataFrame(data[\"anomaly\"])\n",
    "dtest = xgb.DMatrix(test)"
   ]
  },
  {
   "cell_type": "code",
   "execution_count": 46,
   "id": "af4c56e6-bb03-4941-9426-9a846c8b802d",
   "metadata": {
    "tags": []
   },
   "outputs": [
    {
     "name": "stdout",
     "output_type": "stream",
     "text": [
      "download: s3://sagemaker-us-west-2-987720697751/telco-anomaly-pipeline/training_jobs/pipelines-242tyzqnmfdk-XgboostTrain-8XZgfg5DqD/output/model.tar.gz to ./model.tar.gz\n"
     ]
    }
   ],
   "source": [
    "!aws s3 cp s3://sagemaker-us-west-2-987720697751/telco-anomaly-pipeline/training_jobs/pipelines-242tyzqnmfdk-XgboostTrain-8XZgfg5DqD/output/model.tar.gz ."
   ]
  },
  {
   "cell_type": "code",
   "execution_count": 47,
   "id": "258e2a35-c57f-4c70-b292-e383c9cf083b",
   "metadata": {
    "tags": []
   },
   "outputs": [],
   "source": [
    "!tar -xf model.tar.gz"
   ]
  },
  {
   "cell_type": "code",
   "execution_count": 49,
   "id": "080993e7-8e34-4c7c-9f35-294936a9ae6b",
   "metadata": {
    "tags": []
   },
   "outputs": [
    {
     "name": "stdout",
     "output_type": "stream",
     "text": [
      "[20:43:33] WARNING: ../src/learner.cc:1040: \n",
      "  If you are loading a serialized model (like pickle in Python, RDS in R) generated by\n",
      "  older XGBoost, please export the model by calling `Booster.save_model` from that version\n",
      "  first, then load it back in current version. See:\n",
      "\n",
      "    https://xgboost.readthedocs.io/en/latest/tutorials/saving_model.html\n",
      "\n",
      "  for more details about differences between saving model and serializing.\n",
      "\n",
      "[20:43:33] WARNING: ../src/learner.cc:749: Found JSON model saved before XGBoost 1.6, please save the model using current version again. The support for old JSON model will be discontinued in XGBoost 2.3.\n",
      "[20:43:33] WARNING: ../src/learner.cc:438: \n",
      "  If you are loading a serialized model (like pickle in Python, RDS in R) generated by\n",
      "  older XGBoost, please export the model by calling `Booster.save_model` from that version\n",
      "  first, then load it back in current version. See:\n",
      "\n",
      "    https://xgboost.readthedocs.io/en/latest/tutorials/saving_model.html\n",
      "\n",
      "  for more details about differences between saving model and serializing.\n",
      "\n"
     ]
    }
   ],
   "source": [
    "import pickle\n",
    "with open(\"xgboost-model\", \"rb\") as f:\n",
    "    booster = pickle.load(f)"
   ]
  },
  {
   "cell_type": "code",
   "execution_count": 58,
   "id": "0acecfaf-2196-48c0-b943-019ce76292ce",
   "metadata": {
    "tags": []
   },
   "outputs": [
    {
     "data": {
      "text/plain": [
       "array([9.6791786e-01, 9.8887736e-01, 4.1426792e-05, ..., 2.3674622e-06,\n",
       "       1.9229356e-03, 2.5797275e-01], dtype=float32)"
      ]
     },
     "execution_count": 58,
     "metadata": {},
     "output_type": "execute_result"
    }
   ],
   "source": [
    "booster.predict(dtest)"
   ]
  },
  {
   "cell_type": "code",
   "execution_count": null,
   "id": "96516b7c-78d5-492f-b69c-45903df6e526",
   "metadata": {},
   "outputs": [],
   "source": []
  }
 ],
 "metadata": {
  "availableInstances": [
   {
    "_defaultOrder": 0,
    "_isFastLaunch": true,
    "category": "General purpose",
    "gpuNum": 0,
    "memoryGiB": 4,
    "name": "ml.t3.medium",
    "vcpuNum": 2
   },
   {
    "_defaultOrder": 1,
    "_isFastLaunch": false,
    "category": "General purpose",
    "gpuNum": 0,
    "memoryGiB": 8,
    "name": "ml.t3.large",
    "vcpuNum": 2
   },
   {
    "_defaultOrder": 2,
    "_isFastLaunch": false,
    "category": "General purpose",
    "gpuNum": 0,
    "memoryGiB": 16,
    "name": "ml.t3.xlarge",
    "vcpuNum": 4
   },
   {
    "_defaultOrder": 3,
    "_isFastLaunch": false,
    "category": "General purpose",
    "gpuNum": 0,
    "memoryGiB": 32,
    "name": "ml.t3.2xlarge",
    "vcpuNum": 8
   },
   {
    "_defaultOrder": 4,
    "_isFastLaunch": true,
    "category": "General purpose",
    "gpuNum": 0,
    "memoryGiB": 8,
    "name": "ml.m5.large",
    "vcpuNum": 2
   },
   {
    "_defaultOrder": 5,
    "_isFastLaunch": false,
    "category": "General purpose",
    "gpuNum": 0,
    "memoryGiB": 16,
    "name": "ml.m5.xlarge",
    "vcpuNum": 4
   },
   {
    "_defaultOrder": 6,
    "_isFastLaunch": false,
    "category": "General purpose",
    "gpuNum": 0,
    "memoryGiB": 32,
    "name": "ml.m5.2xlarge",
    "vcpuNum": 8
   },
   {
    "_defaultOrder": 7,
    "_isFastLaunch": false,
    "category": "General purpose",
    "gpuNum": 0,
    "memoryGiB": 64,
    "name": "ml.m5.4xlarge",
    "vcpuNum": 16
   },
   {
    "_defaultOrder": 8,
    "_isFastLaunch": false,
    "category": "General purpose",
    "gpuNum": 0,
    "memoryGiB": 128,
    "name": "ml.m5.8xlarge",
    "vcpuNum": 32
   },
   {
    "_defaultOrder": 9,
    "_isFastLaunch": false,
    "category": "General purpose",
    "gpuNum": 0,
    "memoryGiB": 192,
    "name": "ml.m5.12xlarge",
    "vcpuNum": 48
   },
   {
    "_defaultOrder": 10,
    "_isFastLaunch": false,
    "category": "General purpose",
    "gpuNum": 0,
    "memoryGiB": 256,
    "name": "ml.m5.16xlarge",
    "vcpuNum": 64
   },
   {
    "_defaultOrder": 11,
    "_isFastLaunch": false,
    "category": "General purpose",
    "gpuNum": 0,
    "memoryGiB": 384,
    "name": "ml.m5.24xlarge",
    "vcpuNum": 96
   },
   {
    "_defaultOrder": 12,
    "_isFastLaunch": false,
    "category": "General purpose",
    "gpuNum": 0,
    "memoryGiB": 8,
    "name": "ml.m5d.large",
    "vcpuNum": 2
   },
   {
    "_defaultOrder": 13,
    "_isFastLaunch": false,
    "category": "General purpose",
    "gpuNum": 0,
    "memoryGiB": 16,
    "name": "ml.m5d.xlarge",
    "vcpuNum": 4
   },
   {
    "_defaultOrder": 14,
    "_isFastLaunch": false,
    "category": "General purpose",
    "gpuNum": 0,
    "memoryGiB": 32,
    "name": "ml.m5d.2xlarge",
    "vcpuNum": 8
   },
   {
    "_defaultOrder": 15,
    "_isFastLaunch": false,
    "category": "General purpose",
    "gpuNum": 0,
    "memoryGiB": 64,
    "name": "ml.m5d.4xlarge",
    "vcpuNum": 16
   },
   {
    "_defaultOrder": 16,
    "_isFastLaunch": false,
    "category": "General purpose",
    "gpuNum": 0,
    "memoryGiB": 128,
    "name": "ml.m5d.8xlarge",
    "vcpuNum": 32
   },
   {
    "_defaultOrder": 17,
    "_isFastLaunch": false,
    "category": "General purpose",
    "gpuNum": 0,
    "memoryGiB": 192,
    "name": "ml.m5d.12xlarge",
    "vcpuNum": 48
   },
   {
    "_defaultOrder": 18,
    "_isFastLaunch": false,
    "category": "General purpose",
    "gpuNum": 0,
    "memoryGiB": 256,
    "name": "ml.m5d.16xlarge",
    "vcpuNum": 64
   },
   {
    "_defaultOrder": 19,
    "_isFastLaunch": false,
    "category": "General purpose",
    "gpuNum": 0,
    "memoryGiB": 384,
    "name": "ml.m5d.24xlarge",
    "vcpuNum": 96
   },
   {
    "_defaultOrder": 20,
    "_isFastLaunch": true,
    "category": "Compute optimized",
    "gpuNum": 0,
    "memoryGiB": 4,
    "name": "ml.c5.large",
    "vcpuNum": 2
   },
   {
    "_defaultOrder": 21,
    "_isFastLaunch": false,
    "category": "Compute optimized",
    "gpuNum": 0,
    "memoryGiB": 8,
    "name": "ml.c5.xlarge",
    "vcpuNum": 4
   },
   {
    "_defaultOrder": 22,
    "_isFastLaunch": false,
    "category": "Compute optimized",
    "gpuNum": 0,
    "memoryGiB": 16,
    "name": "ml.c5.2xlarge",
    "vcpuNum": 8
   },
   {
    "_defaultOrder": 23,
    "_isFastLaunch": false,
    "category": "Compute optimized",
    "gpuNum": 0,
    "memoryGiB": 32,
    "name": "ml.c5.4xlarge",
    "vcpuNum": 16
   },
   {
    "_defaultOrder": 24,
    "_isFastLaunch": false,
    "category": "Compute optimized",
    "gpuNum": 0,
    "memoryGiB": 72,
    "name": "ml.c5.9xlarge",
    "vcpuNum": 36
   },
   {
    "_defaultOrder": 25,
    "_isFastLaunch": false,
    "category": "Compute optimized",
    "gpuNum": 0,
    "memoryGiB": 96,
    "name": "ml.c5.12xlarge",
    "vcpuNum": 48
   },
   {
    "_defaultOrder": 26,
    "_isFastLaunch": false,
    "category": "Compute optimized",
    "gpuNum": 0,
    "memoryGiB": 144,
    "name": "ml.c5.18xlarge",
    "vcpuNum": 72
   },
   {
    "_defaultOrder": 27,
    "_isFastLaunch": false,
    "category": "Compute optimized",
    "gpuNum": 0,
    "memoryGiB": 192,
    "name": "ml.c5.24xlarge",
    "vcpuNum": 96
   },
   {
    "_defaultOrder": 28,
    "_isFastLaunch": true,
    "category": "Accelerated computing",
    "gpuNum": 1,
    "memoryGiB": 16,
    "name": "ml.g4dn.xlarge",
    "vcpuNum": 4
   },
   {
    "_defaultOrder": 29,
    "_isFastLaunch": false,
    "category": "Accelerated computing",
    "gpuNum": 1,
    "memoryGiB": 32,
    "name": "ml.g4dn.2xlarge",
    "vcpuNum": 8
   },
   {
    "_defaultOrder": 30,
    "_isFastLaunch": false,
    "category": "Accelerated computing",
    "gpuNum": 1,
    "memoryGiB": 64,
    "name": "ml.g4dn.4xlarge",
    "vcpuNum": 16
   },
   {
    "_defaultOrder": 31,
    "_isFastLaunch": false,
    "category": "Accelerated computing",
    "gpuNum": 1,
    "memoryGiB": 128,
    "name": "ml.g4dn.8xlarge",
    "vcpuNum": 32
   },
   {
    "_defaultOrder": 32,
    "_isFastLaunch": false,
    "category": "Accelerated computing",
    "gpuNum": 4,
    "memoryGiB": 192,
    "name": "ml.g4dn.12xlarge",
    "vcpuNum": 48
   },
   {
    "_defaultOrder": 33,
    "_isFastLaunch": false,
    "category": "Accelerated computing",
    "gpuNum": 1,
    "memoryGiB": 256,
    "name": "ml.g4dn.16xlarge",
    "vcpuNum": 64
   },
   {
    "_defaultOrder": 34,
    "_isFastLaunch": false,
    "category": "Accelerated computing",
    "gpuNum": 1,
    "memoryGiB": 61,
    "name": "ml.p3.2xlarge",
    "vcpuNum": 8
   },
   {
    "_defaultOrder": 35,
    "_isFastLaunch": false,
    "category": "Accelerated computing",
    "gpuNum": 4,
    "memoryGiB": 244,
    "name": "ml.p3.8xlarge",
    "vcpuNum": 32
   },
   {
    "_defaultOrder": 36,
    "_isFastLaunch": false,
    "category": "Accelerated computing",
    "gpuNum": 8,
    "memoryGiB": 488,
    "name": "ml.p3.16xlarge",
    "vcpuNum": 64
   },
   {
    "_defaultOrder": 37,
    "_isFastLaunch": false,
    "category": "Accelerated computing",
    "gpuNum": 8,
    "memoryGiB": 768,
    "name": "ml.p3dn.24xlarge",
    "vcpuNum": 96
   },
   {
    "_defaultOrder": 38,
    "_isFastLaunch": false,
    "category": "Memory Optimized",
    "gpuNum": 0,
    "memoryGiB": 16,
    "name": "ml.r5.large",
    "vcpuNum": 2
   },
   {
    "_defaultOrder": 39,
    "_isFastLaunch": false,
    "category": "Memory Optimized",
    "gpuNum": 0,
    "memoryGiB": 32,
    "name": "ml.r5.xlarge",
    "vcpuNum": 4
   },
   {
    "_defaultOrder": 40,
    "_isFastLaunch": false,
    "category": "Memory Optimized",
    "gpuNum": 0,
    "memoryGiB": 64,
    "name": "ml.r5.2xlarge",
    "vcpuNum": 8
   },
   {
    "_defaultOrder": 41,
    "_isFastLaunch": false,
    "category": "Memory Optimized",
    "gpuNum": 0,
    "memoryGiB": 128,
    "name": "ml.r5.4xlarge",
    "vcpuNum": 16
   },
   {
    "_defaultOrder": 42,
    "_isFastLaunch": false,
    "category": "Memory Optimized",
    "gpuNum": 0,
    "memoryGiB": 256,
    "name": "ml.r5.8xlarge",
    "vcpuNum": 32
   },
   {
    "_defaultOrder": 43,
    "_isFastLaunch": false,
    "category": "Memory Optimized",
    "gpuNum": 0,
    "memoryGiB": 384,
    "name": "ml.r5.12xlarge",
    "vcpuNum": 48
   },
   {
    "_defaultOrder": 44,
    "_isFastLaunch": false,
    "category": "Memory Optimized",
    "gpuNum": 0,
    "memoryGiB": 512,
    "name": "ml.r5.16xlarge",
    "vcpuNum": 64
   },
   {
    "_defaultOrder": 45,
    "_isFastLaunch": false,
    "category": "Memory Optimized",
    "gpuNum": 0,
    "memoryGiB": 768,
    "name": "ml.r5.24xlarge",
    "vcpuNum": 96
   },
   {
    "_defaultOrder": 46,
    "_isFastLaunch": false,
    "category": "Accelerated computing",
    "gpuNum": 1,
    "memoryGiB": 16,
    "name": "ml.g5.xlarge",
    "vcpuNum": 4
   },
   {
    "_defaultOrder": 47,
    "_isFastLaunch": false,
    "category": "Accelerated computing",
    "gpuNum": 1,
    "memoryGiB": 32,
    "name": "ml.g5.2xlarge",
    "vcpuNum": 8
   },
   {
    "_defaultOrder": 48,
    "_isFastLaunch": false,
    "category": "Accelerated computing",
    "gpuNum": 1,
    "memoryGiB": 64,
    "name": "ml.g5.4xlarge",
    "vcpuNum": 16
   },
   {
    "_defaultOrder": 49,
    "_isFastLaunch": false,
    "category": "Accelerated computing",
    "gpuNum": 1,
    "memoryGiB": 128,
    "name": "ml.g5.8xlarge",
    "vcpuNum": 32
   },
   {
    "_defaultOrder": 50,
    "_isFastLaunch": false,
    "category": "Accelerated computing",
    "gpuNum": 1,
    "memoryGiB": 256,
    "name": "ml.g5.16xlarge",
    "vcpuNum": 64
   },
   {
    "_defaultOrder": 51,
    "_isFastLaunch": false,
    "category": "Accelerated computing",
    "gpuNum": 4,
    "memoryGiB": 192,
    "name": "ml.g5.12xlarge",
    "vcpuNum": 48
   },
   {
    "_defaultOrder": 52,
    "_isFastLaunch": false,
    "category": "Accelerated computing",
    "gpuNum": 4,
    "memoryGiB": 384,
    "name": "ml.g5.24xlarge",
    "vcpuNum": 96
   },
   {
    "_defaultOrder": 53,
    "_isFastLaunch": false,
    "category": "Accelerated computing",
    "gpuNum": 8,
    "memoryGiB": 768,
    "name": "ml.g5.48xlarge",
    "vcpuNum": 192
   }
  ],
  "instance_type": "ml.t3.medium",
  "kernelspec": {
   "display_name": "Python 3 (Data Science)",
   "language": "python",
   "name": "python3__SAGEMAKER_INTERNAL__arn:aws:sagemaker:us-west-2:236514542706:image/datascience-1.0"
  },
  "language_info": {
   "codemirror_mode": {
    "name": "ipython",
    "version": 3
   },
   "file_extension": ".py",
   "mimetype": "text/x-python",
   "name": "python",
   "nbconvert_exporter": "python",
   "pygments_lexer": "ipython3",
   "version": "3.7.10"
  }
 },
 "nbformat": 4,
 "nbformat_minor": 5
}
